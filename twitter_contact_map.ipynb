{
 "metadata": {
  "name": "",
  "signature": "sha256:31091dedca456b3db9219de87e6ab15da3408f1b409e851a44749392b001cc04"
 },
 "nbformat": 3,
 "nbformat_minor": 0,
 "worksheets": [
  {
   "cells": [
    {
     "cell_type": "code",
     "collapsed": false,
     "input": [
      "import tweepy\n",
      "import json\n",
      "import pandas as pd\n",
      "from geopy.geocoders import Nominatim\n",
      "import folium\n",
      "from IPython.display import HTML"
     ],
     "language": "python",
     "metadata": {},
     "outputs": [],
     "prompt_number": 2
    },
    {
     "cell_type": "code",
     "collapsed": false,
     "input": [
      "# Loading variables containing credentials for authentication\n",
      "%run cred.py"
     ],
     "language": "python",
     "metadata": {},
     "outputs": [],
     "prompt_number": 4
    },
    {
     "cell_type": "code",
     "collapsed": false,
     "input": [
      "auth = tweepy.OAuthHandler(consumer_key, consumer_secret)\n",
      "auth.set_access_token(access_token, access_token_secret)\n",
      "\n",
      "api = tweepy.API(auth)"
     ],
     "language": "python",
     "metadata": {},
     "outputs": [],
     "prompt_number": 5
    },
    {
     "cell_type": "code",
     "collapsed": false,
     "input": [
      "# using list comprehension to extract followers informations\n",
      "l_follow = [it for it in tweepy.Cursor(api.followers, count=200).items()]\n",
      "l_friends = [it for it in tweepy.Cursor(api.friends, count=200).items()]\n"
     ],
     "language": "python",
     "metadata": {},
     "outputs": [],
     "prompt_number": 6
    },
    {
     "cell_type": "code",
     "collapsed": false,
     "input": [
      "len(l_follow)"
     ],
     "language": "python",
     "metadata": {},
     "outputs": [
      {
       "metadata": {},
       "output_type": "pyout",
       "prompt_number": 25,
       "text": [
        "193"
       ]
      }
     ],
     "prompt_number": 25
    },
    {
     "cell_type": "code",
     "collapsed": false,
     "input": [
      "len(l_friends)"
     ],
     "language": "python",
     "metadata": {},
     "outputs": [
      {
       "metadata": {},
       "output_type": "pyout",
       "prompt_number": 63,
       "text": [
        "660"
       ]
      }
     ],
     "prompt_number": 63
    },
    {
     "cell_type": "code",
     "collapsed": false,
     "input": [
      "#api.rate_limit_status()"
     ],
     "language": "python",
     "metadata": {},
     "outputs": [],
     "prompt_number": 24
    },
    {
     "cell_type": "code",
     "collapsed": false,
     "input": [
      "#df = pd.DataFrame([it._json for it in l_follow], \n",
      "#             index=range(1,len(l_follow)+1), \n",
      "#             columns=['name', 'location', 'geo'])"
     ],
     "language": "python",
     "metadata": {},
     "outputs": [],
     "prompt_number": 73
    },
    {
     "cell_type": "code",
     "collapsed": false,
     "input": [
      "#df = df.append(pd.DataFrame([it._json for it in l_friends], \n",
      "#             index=range(len(l_follow)+1,len(l_follow)+len(l_friends)+1), \n",
      "#             columns=['name', 'location','geo']))"
     ],
     "language": "python",
     "metadata": {},
     "outputs": [],
     "prompt_number": 74
    },
    {
     "cell_type": "code",
     "collapsed": false,
     "input": [
      "# Alternative way: we don't have to specify the index.\n",
      "df_follow = pd.DataFrame([ [it._json['name'],it._json['location'] ] for it in l_follow], \n",
      "                  columns=['name','location'])"
     ],
     "language": "python",
     "metadata": {},
     "outputs": [],
     "prompt_number": 8
    },
    {
     "cell_type": "code",
     "collapsed": false,
     "input": [
      "df_friends = pd.DataFrame([ [it._json['name'],it._json['location'] ] for it in l_friends], \n",
      "                  columns=['name','location'])"
     ],
     "language": "python",
     "metadata": {},
     "outputs": [],
     "prompt_number": 9
    },
    {
     "cell_type": "code",
     "collapsed": false,
     "input": [
      "is_mutual = df_friends.append(df_follow).duplicated()"
     ],
     "language": "python",
     "metadata": {},
     "outputs": [],
     "prompt_number": 13
    },
    {
     "cell_type": "code",
     "collapsed": false,
     "input": [
      "df_friends[is_mutual[:len(df_friends)]]"
     ],
     "language": "python",
     "metadata": {},
     "outputs": [
      {
       "html": [
        "<div style=\"max-height:1000px;max-width:1500px;overflow:auto;\">\n",
        "<table border=\"1\" class=\"dataframe\">\n",
        "  <thead>\n",
        "    <tr style=\"text-align: right;\">\n",
        "      <th></th>\n",
        "      <th>name</th>\n",
        "      <th>location</th>\n",
        "    </tr>\n",
        "  </thead>\n",
        "  <tbody>\n",
        "    <tr>\n",
        "      <th>556</th>\n",
        "      <td> Computer Vision</td>\n",
        "      <td> </td>\n",
        "    </tr>\n",
        "  </tbody>\n",
        "</table>\n",
        "</div>"
       ],
       "metadata": {},
       "output_type": "pyout",
       "prompt_number": 21,
       "text": [
        "                name location\n",
        "556  Computer Vision         "
       ]
      }
     ],
     "prompt_number": 21
    },
    {
     "cell_type": "markdown",
     "metadata": {},
     "source": [
      "Because of the restrictions on request rate (15 requests per 15 minute window in our case) it is maybe a good idea to save our variables, just in case. Pickle is the way to do that: objects are 'serialized' (meaning flattened and converted to a binary stream) so that they can be recovered later by simply loading the pickle file. Neat, huh?"
     ]
    },
    {
     "cell_type": "code",
     "collapsed": false,
     "input": [
      "# Writing objects\n",
      "#import pickle\n",
      "#f = open('followers.pkl', 'wb')\n",
      "#pickle.dump(l_follow,f)\n",
      "#f.close()\n",
      "#f = open('friends.pkl', 'wb')\n",
      "#pickle.dump(l_friends,f)\n",
      "#f.close()"
     ],
     "language": "python",
     "metadata": {},
     "outputs": [],
     "prompt_number": 66
    },
    {
     "cell_type": "code",
     "collapsed": false,
     "input": [
      "api.rate_limit_status()"
     ],
     "language": "python",
     "metadata": {},
     "outputs": [
      {
       "metadata": {},
       "output_type": "pyout",
       "prompt_number": 5,
       "text": [
        "{u'rate_limit_context': {u'access_token': u'7056652-1TyY0ZzsfVM6aKtFhqvxzaly4XdpAQebyKdyqEoP1R'},\n",
        " u'resources': {u'account': {u'/account/login_verification_enrollment': {u'limit': 15,\n",
        "    u'remaining': 15,\n",
        "    u'reset': 1411715759},\n",
        "   u'/account/settings': {u'limit': 15,\n",
        "    u'remaining': 15,\n",
        "    u'reset': 1411715759},\n",
        "   u'/account/update_profile': {u'limit': 15,\n",
        "    u'remaining': 15,\n",
        "    u'reset': 1411715759},\n",
        "   u'/account/verify_credentials': {u'limit': 15,\n",
        "    u'remaining': 15,\n",
        "    u'reset': 1411715759}},\n",
        "  u'application': {u'/application/rate_limit_status': {u'limit': 180,\n",
        "    u'remaining': 179,\n",
        "    u'reset': 1411715759}},\n",
        "  u'blocks': {u'/blocks/ids': {u'limit': 15,\n",
        "    u'remaining': 15,\n",
        "    u'reset': 1411715759},\n",
        "   u'/blocks/list': {u'limit': 15, u'remaining': 15, u'reset': 1411715759}},\n",
        "  u'device': {u'/device/token': {u'limit': 15,\n",
        "    u'remaining': 15,\n",
        "    u'reset': 1411715759}},\n",
        "  u'direct_messages': {u'/direct_messages': {u'limit': 15,\n",
        "    u'remaining': 15,\n",
        "    u'reset': 1411715759},\n",
        "   u'/direct_messages/sent': {u'limit': 15,\n",
        "    u'remaining': 15,\n",
        "    u'reset': 1411715759},\n",
        "   u'/direct_messages/sent_and_received': {u'limit': 15,\n",
        "    u'remaining': 15,\n",
        "    u'reset': 1411715759},\n",
        "   u'/direct_messages/show': {u'limit': 15,\n",
        "    u'remaining': 15,\n",
        "    u'reset': 1411715759}},\n",
        "  u'favorites': {u'/favorites/list': {u'limit': 15,\n",
        "    u'remaining': 15,\n",
        "    u'reset': 1411715759}},\n",
        "  u'followers': {u'/followers/ids': {u'limit': 15,\n",
        "    u'remaining': 15,\n",
        "    u'reset': 1411715759},\n",
        "   u'/followers/list': {u'limit': 15, u'remaining': 14, u'reset': 1411715224}},\n",
        "  u'friends': {u'/friends/following/ids': {u'limit': 15,\n",
        "    u'remaining': 15,\n",
        "    u'reset': 1411715759},\n",
        "   u'/friends/following/list': {u'limit': 15,\n",
        "    u'remaining': 15,\n",
        "    u'reset': 1411715759},\n",
        "   u'/friends/ids': {u'limit': 15, u'remaining': 15, u'reset': 1411715759},\n",
        "   u'/friends/list': {u'limit': 15, u'remaining': 11, u'reset': 1411715227}},\n",
        "  u'friendships': {u'/friendships/incoming': {u'limit': 15,\n",
        "    u'remaining': 15,\n",
        "    u'reset': 1411715759},\n",
        "   u'/friendships/lookup': {u'limit': 15,\n",
        "    u'remaining': 15,\n",
        "    u'reset': 1411715759},\n",
        "   u'/friendships/no_retweets/ids': {u'limit': 15,\n",
        "    u'remaining': 15,\n",
        "    u'reset': 1411715759},\n",
        "   u'/friendships/outgoing': {u'limit': 15,\n",
        "    u'remaining': 15,\n",
        "    u'reset': 1411715759},\n",
        "   u'/friendships/show': {u'limit': 180,\n",
        "    u'remaining': 180,\n",
        "    u'reset': 1411715759}},\n",
        "  u'geo': {u'/geo/id/:place_id': {u'limit': 15,\n",
        "    u'remaining': 15,\n",
        "    u'reset': 1411715759},\n",
        "   u'/geo/reverse_geocode': {u'limit': 15,\n",
        "    u'remaining': 15,\n",
        "    u'reset': 1411715759},\n",
        "   u'/geo/search': {u'limit': 15, u'remaining': 15, u'reset': 1411715759},\n",
        "   u'/geo/similar_places': {u'limit': 15,\n",
        "    u'remaining': 15,\n",
        "    u'reset': 1411715759}},\n",
        "  u'help': {u'/help/configuration': {u'limit': 15,\n",
        "    u'remaining': 15,\n",
        "    u'reset': 1411715759},\n",
        "   u'/help/languages': {u'limit': 15, u'remaining': 15, u'reset': 1411715759},\n",
        "   u'/help/privacy': {u'limit': 15, u'remaining': 15, u'reset': 1411715759},\n",
        "   u'/help/settings': {u'limit': 15, u'remaining': 15, u'reset': 1411715759},\n",
        "   u'/help/tos': {u'limit': 15, u'remaining': 15, u'reset': 1411715759}},\n",
        "  u'lists': {u'/lists/list': {u'limit': 15,\n",
        "    u'remaining': 15,\n",
        "    u'reset': 1411715759},\n",
        "   u'/lists/members': {u'limit': 180, u'remaining': 180, u'reset': 1411715759},\n",
        "   u'/lists/members/show': {u'limit': 15,\n",
        "    u'remaining': 15,\n",
        "    u'reset': 1411715759},\n",
        "   u'/lists/memberships': {u'limit': 15,\n",
        "    u'remaining': 15,\n",
        "    u'reset': 1411715759},\n",
        "   u'/lists/ownerships': {u'limit': 15,\n",
        "    u'remaining': 15,\n",
        "    u'reset': 1411715759},\n",
        "   u'/lists/show': {u'limit': 15, u'remaining': 15, u'reset': 1411715759},\n",
        "   u'/lists/statuses': {u'limit': 180,\n",
        "    u'remaining': 180,\n",
        "    u'reset': 1411715759},\n",
        "   u'/lists/subscribers': {u'limit': 180,\n",
        "    u'remaining': 180,\n",
        "    u'reset': 1411715759},\n",
        "   u'/lists/subscribers/show': {u'limit': 15,\n",
        "    u'remaining': 15,\n",
        "    u'reset': 1411715759},\n",
        "   u'/lists/subscriptions': {u'limit': 15,\n",
        "    u'remaining': 15,\n",
        "    u'reset': 1411715759}},\n",
        "  u'mutes': {u'/mutes/users/ids': {u'limit': 15,\n",
        "    u'remaining': 15,\n",
        "    u'reset': 1411715759},\n",
        "   u'/mutes/users/list': {u'limit': 15,\n",
        "    u'remaining': 15,\n",
        "    u'reset': 1411715759}},\n",
        "  u'saved_searches': {u'/saved_searches/destroy/:id': {u'limit': 15,\n",
        "    u'remaining': 15,\n",
        "    u'reset': 1411715759},\n",
        "   u'/saved_searches/list': {u'limit': 15,\n",
        "    u'remaining': 15,\n",
        "    u'reset': 1411715759},\n",
        "   u'/saved_searches/show/:id': {u'limit': 15,\n",
        "    u'remaining': 15,\n",
        "    u'reset': 1411715759}},\n",
        "  u'search': {u'/search/tweets': {u'limit': 180,\n",
        "    u'remaining': 180,\n",
        "    u'reset': 1411715759}},\n",
        "  u'statuses': {u'/statuses/friends': {u'limit': 15,\n",
        "    u'remaining': 15,\n",
        "    u'reset': 1411715759},\n",
        "   u'/statuses/home_timeline': {u'limit': 15,\n",
        "    u'remaining': 15,\n",
        "    u'reset': 1411715759},\n",
        "   u'/statuses/lookup': {u'limit': 180,\n",
        "    u'remaining': 180,\n",
        "    u'reset': 1411715759},\n",
        "   u'/statuses/mentions_timeline': {u'limit': 15,\n",
        "    u'remaining': 15,\n",
        "    u'reset': 1411715759},\n",
        "   u'/statuses/oembed': {u'limit': 180,\n",
        "    u'remaining': 180,\n",
        "    u'reset': 1411715759},\n",
        "   u'/statuses/retweeters/ids': {u'limit': 15,\n",
        "    u'remaining': 15,\n",
        "    u'reset': 1411715759},\n",
        "   u'/statuses/retweets/:id': {u'limit': 60,\n",
        "    u'remaining': 60,\n",
        "    u'reset': 1411715759},\n",
        "   u'/statuses/retweets_of_me': {u'limit': 15,\n",
        "    u'remaining': 15,\n",
        "    u'reset': 1411715759},\n",
        "   u'/statuses/show/:id': {u'limit': 180,\n",
        "    u'remaining': 180,\n",
        "    u'reset': 1411715759},\n",
        "   u'/statuses/user_timeline': {u'limit': 180,\n",
        "    u'remaining': 180,\n",
        "    u'reset': 1411715759}},\n",
        "  u'trends': {u'/trends/available': {u'limit': 15,\n",
        "    u'remaining': 15,\n",
        "    u'reset': 1411715759},\n",
        "   u'/trends/closest': {u'limit': 15, u'remaining': 15, u'reset': 1411715759},\n",
        "   u'/trends/place': {u'limit': 15, u'remaining': 15, u'reset': 1411715759}},\n",
        "  u'users': {u'/users/contributees': {u'limit': 15,\n",
        "    u'remaining': 15,\n",
        "    u'reset': 1411715759},\n",
        "   u'/users/contributors': {u'limit': 15,\n",
        "    u'remaining': 15,\n",
        "    u'reset': 1411715759},\n",
        "   u'/users/derived_info': {u'limit': 15,\n",
        "    u'remaining': 15,\n",
        "    u'reset': 1411715759},\n",
        "   u'/users/lookup': {u'limit': 180, u'remaining': 180, u'reset': 1411715759},\n",
        "   u'/users/profile_banner': {u'limit': 180,\n",
        "    u'remaining': 180,\n",
        "    u'reset': 1411715759},\n",
        "   u'/users/report_spam': {u'limit': 15,\n",
        "    u'remaining': 15,\n",
        "    u'reset': 1411715759},\n",
        "   u'/users/search': {u'limit': 180, u'remaining': 180, u'reset': 1411715759},\n",
        "   u'/users/show/:id': {u'limit': 180,\n",
        "    u'remaining': 180,\n",
        "    u'reset': 1411715759},\n",
        "   u'/users/suggestions': {u'limit': 15,\n",
        "    u'remaining': 15,\n",
        "    u'reset': 1411715759},\n",
        "   u'/users/suggestions/:slug': {u'limit': 15,\n",
        "    u'remaining': 15,\n",
        "    u'reset': 1411715759},\n",
        "   u'/users/suggestions/:slug/members': {u'limit': 15,\n",
        "    u'remaining': 15,\n",
        "    u'reset': 1411715759}}}}"
       ]
      }
     ],
     "prompt_number": 5
    },
    {
     "cell_type": "code",
     "collapsed": false,
     "input": [],
     "language": "python",
     "metadata": {},
     "outputs": []
    }
   ],
   "metadata": {}
  }
 ]
}