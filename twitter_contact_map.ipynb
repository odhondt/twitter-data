{
 "metadata": {
  "name": "",
  "signature": "sha256:3583bf706b7d1739e6accf2dcaada511dfb13ac8c7ed86ec24cf0d3de7d8913f"
 },
 "nbformat": 3,
 "nbformat_minor": 0,
 "worksheets": [
  {
   "cells": [
    {
     "cell_type": "code",
     "collapsed": false,
     "input": [
      "import tweepy\n",
      "import json\n",
      "import pandas as pd\n",
      "from geopy.geocoders import Nominatim\n",
      "import folium\n",
      "from IPython.display import HTML"
     ],
     "language": "python",
     "metadata": {},
     "outputs": [],
     "prompt_number": 1
    },
    {
     "cell_type": "code",
     "collapsed": false,
     "input": [
      "# Loading variables containing credentials for authentication\n",
      "%run cred.py"
     ],
     "language": "python",
     "metadata": {},
     "outputs": [],
     "prompt_number": 2
    },
    {
     "cell_type": "code",
     "collapsed": false,
     "input": [
      "auth = tweepy.OAuthHandler(consumer_key, consumer_secret)\n",
      "auth.set_access_token(access_token, access_token_secret)\n",
      "\n",
      "api = tweepy.API(auth)"
     ],
     "language": "python",
     "metadata": {},
     "outputs": [],
     "prompt_number": 3
    },
    {
     "cell_type": "code",
     "collapsed": false,
     "input": [
      "# using list comprehension to extract followers informations\n",
      "l_follow = [it for it in tweepy.Cursor(api.followers, count=200).items()]\n",
      "l_friends = [it for it in tweepy.Cursor(api.friends, count=200).items()]\n"
     ],
     "language": "python",
     "metadata": {},
     "outputs": [],
     "prompt_number": 4
    },
    {
     "cell_type": "code",
     "collapsed": false,
     "input": [
      "# Alternative way: we don't have to specify the index.\n",
      "df_follow_all = pd.DataFrame([ [it._json['name'],it._json['location'] ] for it in l_follow], \n",
      "                  columns=['name','location'])"
     ],
     "language": "python",
     "metadata": {},
     "outputs": [],
     "prompt_number": 5
    },
    {
     "cell_type": "code",
     "collapsed": false,
     "input": [
      "df_friends_all = pd.DataFrame([ [it._json['name'],it._json['location'] ] for it in l_friends], \n",
      "                  columns=['name','location'])"
     ],
     "language": "python",
     "metadata": {},
     "outputs": [],
     "prompt_number": 6
    },
    {
     "cell_type": "code",
     "collapsed": false,
     "input": [
      "# removing mutual follows from followers and putting them into a separate list\n",
      "mask_follow = df_follow_all.name.isin(df_friends_all.name)\n",
      "df_mutual = df_follow_all[mask_follow==True]\n",
      "df_follow = df_follow_all[mask_follow==False]"
     ],
     "language": "python",
     "metadata": {},
     "outputs": [],
     "prompt_number": 7
    },
    {
     "cell_type": "code",
     "collapsed": false,
     "input": [
      "# removing mutual follows from friends\n",
      "mask_friends = df_friends_all.name.isin(df_follow_all.name)\n",
      "#df_mutual2 = df_friends_all[mask_friends==True]\n",
      "df_friends = df_friends_all[mask_friends==False]"
     ],
     "language": "python",
     "metadata": {},
     "outputs": [],
     "prompt_number": 8
    },
    {
     "cell_type": "markdown",
     "metadata": {},
     "source": [
      "Because of the restrictions on request rate (15 requests per 15 minute window in our case) it is maybe a good idea to save our variables, just in case. Pickle is the way to do that: objects are 'serialized' (meaning flattened and converted to a binary stream) so that they can be recovered later by simply loading the pickle file. Neat, huh?"
     ]
    },
    {
     "cell_type": "code",
     "collapsed": false,
     "input": [
      "# Writing objects\n",
      "#import pickle\n",
      "#f = open('followers.pkl', 'wb')\n",
      "#pickle.dump(l_follow,f)\n",
      "#f.close()\n",
      "#f = open('friends.pkl', 'wb')\n",
      "#pickle.dump(l_friends,f)\n",
      "#f.close()"
     ],
     "language": "python",
     "metadata": {},
     "outputs": [],
     "prompt_number": 66
    },
    {
     "cell_type": "code",
     "collapsed": false,
     "input": [
      "df_follow['lat'] = float('nan')\n",
      "df_follow['lon'] = float('nan')\n",
      "\n",
      "df_friends['lat'] = float('nan')\n",
      "df_friends['lon'] = float('nan')\n",
      "\n",
      "df_mutual['lat'] = float('nan')\n",
      "df_mutual['lon'] = float('nan')"
     ],
     "language": "python",
     "metadata": {},
     "outputs": [],
     "prompt_number": 9
    },
    {
     "cell_type": "code",
     "collapsed": false,
     "input": [
      "def add_coord_to_df(my_df):\n",
      "    geolocator = Nominatim()\n",
      "    my_df['lat'] = float('nan')\n",
      "    my_df['lon'] = float('nan')\n",
      "    for idx, it in enumerate(my_df.location):\n",
      "        try: # Avoids interrupting the loop by time-out errors\n",
      "            # I am not so sure about if this is the correct way to handle it\n",
      "            location = geolocator.geocode(my_df.location[idx].encode('utf-8'))\n",
      "        except:\n",
      "            location = None\n",
      "        if location is not None:\n",
      "            my_df.lat[idx] = location.latitude\n",
      "            my_df.lon[idx] = location.longitude"
     ],
     "language": "python",
     "metadata": {},
     "outputs": [],
     "prompt_number": 12
    },
    {
     "cell_type": "code",
     "collapsed": false,
     "input": [
      "add_coord_to_df(df_follow)\n",
      "add_coord_to_df(df_friends)\n",
      "add_coord_to_df(df_mutual)"
     ],
     "language": "python",
     "metadata": {},
     "outputs": [
      {
       "output_type": "stream",
       "stream": "stderr",
       "text": [
        "-c:11: SettingWithCopyWarning: A value is trying to be set on a copy of a slice from a DataFrame.\n",
        "Try using .loc[row_index,col_indexer] = value instead\n",
        "-c:12: SettingWithCopyWarning: A value is trying to be set on a copy of a slice from a DataFrame.\n",
        "Try using .loc[row_index,col_indexer] = value instead\n"
       ]
      }
     ],
     "prompt_number": 13
    },
    {
     "cell_type": "code",
     "collapsed": false,
     "input": [
      "mapContacts = folium.Map(location=[20, -10], zoom_start=2, \n",
      "                         tiles= r'http://{s}.tile.thunderforest.com/landscape/{z}/{x}/{y}.png',\n",
      "                         attr='&copy; <a href=\"http://www.opencyclemap.org\">OpenCycleMap</a>, &copy; <a href=\"http://openstreetmap.org\">OpenStreetMap</a> contributors, <a href=\"http://creativecommons.org/licenses/by-sa/2.0/\">CC-BY-SA</a>')"
     ],
     "language": "python",
     "metadata": {},
     "outputs": [],
     "prompt_number": 14
    },
    {
     "cell_type": "code",
     "collapsed": false,
     "input": [
      "def map_from_df(df, map_folium, color):\n",
      "    from math import isnan\n",
      "    for idx in df.index:\n",
      "        lat = df.lat[idx]\n",
      "        lon = df.lon[idx]\n",
      "    \n",
      "        # folium doesn't seem to accept utf-8 strings in the popup\n",
      "        try:\n",
      "            name = str(df.name[idx].decode())\n",
      "        except:\n",
      "            name = \"unknown\"\n",
      "        try:\n",
      "            loc = str(df.location[idx].decode())\n",
      "        except:\n",
      "            loc = \"unknown\"\n",
      "        #print name\n",
      "        if not(isnan(lat)) and not(isnan(lon)):\n",
      "            #print dfContacts.location[idx].encode('utf-8')\n",
      "            mapContacts.polygon_marker(location=[lat, lon],\n",
      "                                      radius=4,\n",
      "                                      line_color=color, \n",
      "                                      fill_color=color,\n",
      "                                      popup=name + \" (\" + loc + \")\")\n"
     ],
     "language": "python",
     "metadata": {},
     "outputs": [],
     "prompt_number": 18
    },
    {
     "cell_type": "code",
     "collapsed": false,
     "input": [
      "map_from_df(df_friends, mapContacts, '#f6546a')\n",
      "map_from_df(df_follow, mapContacts, '#5974a2')\n",
      "map_from_df(df_mutual, mapContacts, '#45d6bd')"
     ],
     "language": "python",
     "metadata": {},
     "outputs": [],
     "prompt_number": 19
    },
    {
     "cell_type": "code",
     "collapsed": false,
     "input": [
      "mapContacts.create_map('map.html')"
     ],
     "language": "python",
     "metadata": {},
     "outputs": [],
     "prompt_number": 20
    },
    {
     "cell_type": "code",
     "collapsed": false,
     "input": [],
     "language": "python",
     "metadata": {},
     "outputs": []
    }
   ],
   "metadata": {}
  }
 ]
}