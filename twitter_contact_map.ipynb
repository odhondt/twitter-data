{
 "metadata": {
  "name": "",
  "signature": "sha256:159c0d14dee3179d26dbd62dbd5b2b9589698281dff31cc7394d44224861f40e"
 },
 "nbformat": 3,
 "nbformat_minor": 0,
 "worksheets": [
  {
   "cells": [
    {
     "cell_type": "code",
     "collapsed": false,
     "input": [
      "import tweepy\n",
      "import json\n",
      "import pandas as pd\n",
      "from geopy.geocoders import Nominatim\n",
      "import folium\n",
      "from IPython.display import HTML"
     ],
     "language": "python",
     "metadata": {},
     "outputs": [],
     "prompt_number": 36
    },
    {
     "cell_type": "code",
     "collapsed": false,
     "input": [
      "# Loading variables containing credentials for authentication\n",
      "%run cred.py"
     ],
     "language": "python",
     "metadata": {},
     "outputs": [],
     "prompt_number": 2
    },
    {
     "cell_type": "code",
     "collapsed": false,
     "input": [
      "auth = tweepy.OAuthHandler(consumer_key, consumer_secret)\n",
      "auth.set_access_token(access_token, access_token_secret)\n",
      "\n",
      "api = tweepy.API(auth)"
     ],
     "language": "python",
     "metadata": {},
     "outputs": [],
     "prompt_number": 3
    },
    {
     "cell_type": "code",
     "collapsed": false,
     "input": [
      "# using list comprehension to extract followers informations\n",
      "l_follow = [it for it in tweepy.Cursor(api.followers, count=200).items()]\n",
      "l_friends = [it for it in tweepy.Cursor(api.friends, count=200).items()]\n"
     ],
     "language": "python",
     "metadata": {},
     "outputs": [],
     "prompt_number": 4
    },
    {
     "cell_type": "code",
     "collapsed": false,
     "input": [
      "df_follow_all = pd.DataFrame([ [it._json['name'],it._json['location'] ] for it in l_follow], \n",
      "                  columns=['name','location'])"
     ],
     "language": "python",
     "metadata": {},
     "outputs": [],
     "prompt_number": 51
    },
    {
     "cell_type": "code",
     "collapsed": false,
     "input": [
      "df_friends_all = pd.DataFrame([ [it._json['name'],it._json['location'] ] for it in l_friends], \n",
      "                  columns=['name','location'])"
     ],
     "language": "python",
     "metadata": {},
     "outputs": [],
     "prompt_number": 52
    },
    {
     "cell_type": "code",
     "collapsed": false,
     "input": [
      "# removing mutual follows from followers and putting them into a separate list\n",
      "mask_follow = df_follow_all.name.isin(df_friends_all.name)\n",
      "df_mutual = df_follow_all[mask_follow==True]\n",
      "df_follow = df_follow_all[mask_follow==False]"
     ],
     "language": "python",
     "metadata": {},
     "outputs": [],
     "prompt_number": 53
    },
    {
     "cell_type": "code",
     "collapsed": false,
     "input": [
      "# removing mutual follows from friends\n",
      "mask_friends = df_friends_all.name.isin(df_follow_all.name)\n",
      "#df_mutual2 = df_friends_all[mask_friends==True]\n",
      "df_friends = df_friends_all[mask_friends==False]"
     ],
     "language": "python",
     "metadata": {},
     "outputs": [],
     "prompt_number": 54
    },
    {
     "cell_type": "code",
     "collapsed": false,
     "input": [
      "# Adding column with type follower, following or mutual (flr, flg, mtl)\n",
      "df_friends['type'] = 'flg'\n",
      "df_follow['type'] = 'flr'\n",
      "df_mutual['type'] = 'mtl'"
     ],
     "language": "python",
     "metadata": {},
     "outputs": [],
     "prompt_number": 55
    },
    {
     "cell_type": "code",
     "collapsed": false,
     "input": [
      "df = pd.concat([df_friends, df_follow, df_mutual])"
     ],
     "language": "python",
     "metadata": {},
     "outputs": [],
     "prompt_number": 45
    },
    {
     "cell_type": "markdown",
     "metadata": {},
     "source": [
      "Because of the restrictions on request rate (15 requests per 15 minute window in our case) it is maybe a good idea to save our variables, just in case. Pickle is the way to do that: objects are 'serialized' (meaning flattened and converted to a binary stream) so that they can be recovered later by simply loading the pickle file. Neat, huh?"
     ]
    },
    {
     "cell_type": "code",
     "collapsed": false,
     "input": [
      "# Writing objects\n",
      "#import pickle\n",
      "#f = open('followers.pkl', 'wb')\n",
      "#pickle.dump(l_follow,f)\n",
      "#f.close()\n",
      "#f = open('friends.pkl', 'wb')\n",
      "#pickle.dump(l_friends,f)\n",
      "#f.close()"
     ],
     "language": "python",
     "metadata": {},
     "outputs": [],
     "prompt_number": 66
    },
    {
     "cell_type": "code",
     "collapsed": false,
     "input": [
      "def add_coord_to_df(my_df):\n",
      "    geolocator = Nominatim()\n",
      "    my_df['lat'] = float('nan')\n",
      "    my_df['lon'] = float('nan')\n",
      "    for idx, it in enumerate(my_df.location):\n",
      "        try: # Avoids interrupting the loop by time-out errors\n",
      "            # I am not so sure about if this is the correct way to handle it\n",
      "            location = geolocator.geocode(my_df.location[idx].encode('utf-8'))\n",
      "        except:\n",
      "            location = None\n",
      "        if location is not None:\n",
      "            my_df.lat[idx] = location.latitude\n",
      "            my_df.lon[idx] = location.longitude"
     ],
     "language": "python",
     "metadata": {},
     "outputs": [],
     "prompt_number": 56
    },
    {
     "cell_type": "code",
     "collapsed": false,
     "input": [
      "add_coord_to_df(df)"
     ],
     "language": "python",
     "metadata": {},
     "outputs": [],
     "prompt_number": 57
    },
    {
     "cell_type": "code",
     "collapsed": false,
     "input": [
      "def map_from_df(df, map_folium, color):\n",
      "    from math import isnan\n",
      "    for key, grp in df.groupby(['lat','lon']):\n",
      "        if len(grp) >= 1:\n",
      "            lat = key[0]\n",
      "            lon = key[1]\n",
      "        \n",
      "            s = ' <br> '.join(grp.name)\n",
      "            #s = grp.name.iloc[0]\n",
      "            #location = \n",
      "        \n",
      "            #print 'name is %s, lat is %d, lon is %d' % (s, lat, lon)\n",
      "            # folium doesn't seem to accept utf-8 strings in the popup\n",
      "            try:\n",
      "                name = str(s.encode('utf-8').encode('ascii', 'xmlcharrefreplace '))\n",
      "                #name = str(s.decode().encode('utf-8'))\n",
      "            except:\n",
      "                name = \"unknown\"\n",
      "            #try:\n",
      "            #    loc = str(df.location[idx].decode().encode('utf-8'))\n",
      "            #except:\n",
      "            #    loc = \"unknown\"\n",
      "            \n",
      "            if not(isnan(lat)) and not(isnan(lon)):\n",
      "                if len(grp) == 1:\n",
      "                    mapContacts.polygon_marker(location = [lat, lon],\n",
      "                                              radius = 4,\n",
      "                                              line_color = color, \n",
      "                                              fill_color = color,\n",
      "                                              popup = name)\n",
      "                else:\n",
      "                    mapContacts.circle_marker(location = [lat, lon],\n",
      "                                              radius = 1000*len(grp),\n",
      "                                              line_color = color, \n",
      "                                              fill_color = color,\n",
      "                                              popup = name)\n",
      "                \n",
      "        #popup=name + \" (\" + loc + \")\")\n",
      "        \n"
     ],
     "language": "python",
     "metadata": {},
     "outputs": [],
     "prompt_number": 246
    },
    {
     "cell_type": "code",
     "collapsed": false,
     "input": [
      "mapContacts = folium.Map(location=[20, -10], zoom_start=2, \n",
      "                         tiles= r'http://{s}.tile.thunderforest.com/landscape/{z}/{x}/{y}.png',\n",
      "                         attr='&copy; <a href=\"http://www.opencyclemap.org\">OpenCycleMap</a>, &copy; <a href=\"http://openstreetmap.org\">OpenStreetMap</a> contributors, <a href=\"http://creativecommons.org/licenses/by-sa/2.0/\">CC-BY-SA</a>')\n",
      "map_from_df(df, mapContacts, '#f6546a')\n",
      "mapContacts.create_map('map.html')"
     ],
     "language": "python",
     "metadata": {},
     "outputs": [],
     "prompt_number": 247
    },
    {
     "cell_type": "code",
     "collapsed": false,
     "input": [],
     "language": "python",
     "metadata": {},
     "outputs": []
    }
   ],
   "metadata": {}
  }
 ]
}