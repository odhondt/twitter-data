{
 "metadata": {
  "name": "",
  "signature": "sha256:55e08ec73771f7f7c5371ec8711b3b3898d28cda9c619331961d6ff6f6dd97ea"
 },
 "nbformat": 3,
 "nbformat_minor": 0,
 "worksheets": [
  {
   "cells": [
    {
     "cell_type": "markdown",
     "metadata": {},
     "source": [
      "# Making an interactive map of Twitter contacts\n",
      "\n",
      "In this post, I am going to explain how to use the Twitter API to make a map of a user's contacts. When several users are in the same location, we will draw circles with a radius proportinal to the number of users. Clikcing on markers or circles will open a popup with contact name, location and relationship (follower, following or mutual).\n",
      "\n",
      "This is very similar to my first post on mapping flickr contacts. The main difference is that this time we use Tweepy as a wrapper for Twitter API. I also improved the geocoding function to avoid time-out and impose a rate limitation to comply with the geolocator's maximum rate.\n",
      "\n",
      "The markers are color coded according to the relationship (blue for mutual, red for following and green for follower.) The color of the circles is set according to the following rule: if there is at leat a mutual contact, it will be blue. If not but there is at list a follower, it will be green. If there is only following, it will be red."
     ]
    },
    {
     "cell_type": "code",
     "collapsed": false,
     "input": [
      "import tweepy\n",
      "import json\n",
      "import pandas as pd\n",
      "from geopy.geocoders import Nominatim\n",
      "import folium\n",
      "from IPython.display import HTML"
     ],
     "language": "python",
     "metadata": {},
     "outputs": [],
     "prompt_number": 248
    },
    {
     "cell_type": "code",
     "collapsed": false,
     "input": [
      "# Loading variables containing credentials for authentication\n",
      "%run cred.py"
     ],
     "language": "python",
     "metadata": {},
     "outputs": [],
     "prompt_number": 249
    },
    {
     "cell_type": "code",
     "collapsed": false,
     "input": [
      "auth = tweepy.OAuthHandler(consumer_key, consumer_secret)\n",
      "auth.set_access_token(access_token, access_token_secret)\n",
      "\n",
      "api = tweepy.API(auth)"
     ],
     "language": "python",
     "metadata": {},
     "outputs": [],
     "prompt_number": 3
    },
    {
     "cell_type": "code",
     "collapsed": false,
     "input": [
      "# using list comprehension to extract followers informations\n",
      "l_follow = [it for it in tweepy.Cursor(api.followers, count=200).items()]\n",
      "l_friends = [it for it in tweepy.Cursor(api.friends, count=200).items()]\n"
     ],
     "language": "python",
     "metadata": {},
     "outputs": [],
     "prompt_number": 4
    },
    {
     "cell_type": "code",
     "collapsed": false,
     "input": [
      "df_follow_all = pd.DataFrame([ [it._json['name'],it._json['location'] ] for it in l_follow], \n",
      "                  columns=['name','location'])"
     ],
     "language": "python",
     "metadata": {},
     "outputs": [],
     "prompt_number": 277
    },
    {
     "cell_type": "code",
     "collapsed": false,
     "input": [
      "df_friends_all = pd.DataFrame([ [it._json['name'],it._json['location'] ] for it in l_friends], \n",
      "                  columns=['name','location'])"
     ],
     "language": "python",
     "metadata": {},
     "outputs": [],
     "prompt_number": 278
    },
    {
     "cell_type": "code",
     "collapsed": false,
     "input": [
      "# removing mutual follows from followers and putting them into a separate list\n",
      "mask_follow = df_follow_all.name.isin(df_friends_all.name)\n",
      "df_mutual = df_follow_all[mask_follow==True]\n",
      "df_follow = df_follow_all[mask_follow==False]"
     ],
     "language": "python",
     "metadata": {},
     "outputs": [],
     "prompt_number": 279
    },
    {
     "cell_type": "code",
     "collapsed": false,
     "input": [
      "# removing mutual follows from friends\n",
      "mask_friends = df_friends_all.name.isin(df_follow_all.name)\n",
      "#df_mutual2 = df_friends_all[mask_friends==True]\n",
      "df_friends = df_friends_all[mask_friends==False]"
     ],
     "language": "python",
     "metadata": {},
     "outputs": [],
     "prompt_number": 280
    },
    {
     "cell_type": "code",
     "collapsed": false,
     "input": [
      "# Adding column with type follower, following or mutual (flr, flg, mtl)\n",
      "df_friends['relation'] = 'following'\n",
      "df_follow['relation'] = 'follower'\n",
      "df_mutual['relation'] = 'mutual'"
     ],
     "language": "python",
     "metadata": {},
     "outputs": [],
     "prompt_number": 281
    },
    {
     "cell_type": "code",
     "collapsed": false,
     "input": [
      "df = pd.concat([df_friends, df_follow, df_mutual], ignore_index=True)"
     ],
     "language": "python",
     "metadata": {},
     "outputs": [],
     "prompt_number": 282
    },
    {
     "cell_type": "markdown",
     "metadata": {},
     "source": [
      "Because of the restrictions on request rate (15 requests per 15 minute window in our case) it is maybe a good idea to save our variables, just in case. Pickle is the way to do that: objects are 'serialized' (meaning flattened and converted to a binary stream) so that they can be recovered later by simply loading the pickle file. Neat, huh?"
     ]
    },
    {
     "cell_type": "code",
     "collapsed": false,
     "input": [
      "# Writing objects\n",
      "#import pickle\n",
      "#f = open('followers.pkl', 'wb')\n",
      "#pickle.dump(l_follow,f)\n",
      "#f.close()\n",
      "#f = open('friends.pkl', 'wb')\n",
      "#pickle.dump(l_friends,f)\n",
      "#f.close()\n",
      "\n",
      "# loading objects\n",
      "#f = open('followers.pkl', 'rb')\n",
      "#l_follow_all = pickle.load(f)\n",
      "#f.close()\n",
      "#f = open('friends.pkl', 'rb')\n",
      "#l_friends_all = pickle.load(f)\n",
      "#f.close()\n",
      "\n"
     ],
     "language": "python",
     "metadata": {},
     "outputs": [],
     "prompt_number": 253
    },
    {
     "cell_type": "code",
     "collapsed": false,
     "input": [
      "import time\n",
      "\n",
      "# sometimes nominatim has hiccups misses locations\n",
      "# If there are too many we need to relaunch this function\n",
      "def add_coord_to_df(my_df):\n",
      "    geolocator = Nominatim()\n",
      "    my_df['lat'] = float('nan')\n",
      "    my_df['lon'] = float('nan')\n",
      "    cnt = 0\n",
      "    for idx, it in enumerate(my_df.location):\n",
      "        if it != '':\n",
      "            try: # Avoids interrupting the loop by time-out errors\n",
      "                 # we also limit the rate of request to one per second\n",
      "                # which is the maximum tolerated by nominatim\n",
      "                t0 = time.clock()\n",
      "                location = geolocator.geocode(my_df.location[idx].encode('utf-8'), \n",
      "                                              exactly_one=True,\n",
      "                                              timeout=5)\n",
      "                t1 = time.clock()\n",
      "                dt = 1 - t1 - t0\n",
      "                if dt > 0:\n",
      "                    time.sleep(dt)\n",
      "            except:\n",
      "                print my_df.location[idx] + \" failed\"\n",
      "                #print error_message\n",
      "                location = None\n",
      "            if location is not None:\n",
      "                my_df.lat[idx] = location.latitude\n",
      "                my_df.lon[idx] = location.longitude\n",
      "                cnt = cnt + 1\n",
      "        else:\n",
      "            cnt = cnt + 1\n",
      "    print \"%d known locations among %d\" % (cnt, len(my_df))"
     ],
     "language": "python",
     "metadata": {},
     "outputs": [],
     "prompt_number": 294
    },
    {
     "cell_type": "code",
     "collapsed": false,
     "input": [
      "add_coord_to_df(df)"
     ],
     "language": "python",
     "metadata": {},
     "outputs": [
      {
       "output_type": "stream",
       "stream": "stdout",
       "text": [
        "NYC via UK & Australia failed\n",
        "694 known locations among 760"
       ]
      },
      {
       "output_type": "stream",
       "stream": "stdout",
       "text": [
        "\n"
       ]
      }
     ],
     "prompt_number": 295
    },
    {
     "cell_type": "code",
     "collapsed": false,
     "input": [
      "def map_from_df(df, map_folium, color):\n",
      "    from math import isnan\n",
      "    # pastel colors\n",
      "    #color_choice = { 'following': '#ff6f69', 'follower': '#ffcc5c', 'mutual': '#88d8b0'}\n",
      "    # rgb\n",
      "    color_choice = { 'following': '#ff0000', 'follower': '#00cc00', 'mutual': '#0000ff'}\n",
      "    cnt = 0\n",
      "    for key, grp in df.groupby(['lat','lon']):\n",
      "        \n",
      "        lat = key[0]\n",
      "        lon = key[1]\n",
      "            \n",
      "        # Adding html return characters between lines \n",
      "        s = '<br>'.join(grp.name + ', ' + grp.location + ' (' + grp.relation + ')')\n",
      "\n",
      "        # convert to html leaflet.js readable string\n",
      "        try:\n",
      "            name = str(s.encode('ascii', 'xmlcharrefreplace'))\n",
      "\n",
      "        except:\n",
      "            name = \"unknown\"\n",
      "        \n",
      "        if not(isnan(lat)) and not(isnan(lon)):\n",
      "            cnt = cnt + len(grp)\n",
      "            if len(grp) == 1:\n",
      "                color = color_choice[grp.relation.iloc[0]]\n",
      "                mapContacts.polygon_marker(location = [lat, lon],\n",
      "                                            radius = 4,\n",
      "                                            line_color = color, \n",
      "                                            fill_color = color,\n",
      "                                            fill_opacity = 0.7,\n",
      "                                            line_opacity = 0.9,\n",
      "                                            popup = name)\n",
      "            else:\n",
      "                if (grp.relation == 'mutual').sum() > 0:\n",
      "                    color = color_choice['mutual']\n",
      "                elif (grp.relation == 'follower').sum() > 0:\n",
      "                    color = color_choice['follower']\n",
      "                else:\n",
      "                    color = color_choice['following']\n",
      "                mapContacts.circle_marker(location = [lat, lon],\n",
      "                                            radius = 1000*len(grp),\n",
      "                                            line_color = color, \n",
      "                                            fill_color = color,\n",
      "                                            fill_opacity = 0.7,\n",
      "                                            popup = name)\n",
      "        \n",
      "            \n",
      "    print \"%d known locations among %d\" % (cnt, len(df))"
     ],
     "language": "python",
     "metadata": {},
     "outputs": [],
     "prompt_number": 297
    },
    {
     "cell_type": "code",
     "collapsed": false,
     "input": [
      "mapContacts = folium.Map(location=[20, -10], zoom_start=2, \n",
      "                         tiles= r'http://{s}.tile.thunderforest.com/landscape/{z}/{x}/{y}.png',\n",
      "                         attr='&copy; <a href=\"http://www.opencyclemap.org\">OpenCycleMap</a>, &copy; <a href=\"http://openstreetmap.org\">OpenStreetMap</a> contributors, <a href=\"http://creativecommons.org/licenses/by-sa/2.0/\">CC-BY-SA</a>')\n",
      "map_from_df(df, mapContacts, '#f6546a')\n",
      "mapContacts.create_map('map.html')"
     ],
     "language": "python",
     "metadata": {},
     "outputs": [
      {
       "output_type": "stream",
       "stream": "stdout",
       "text": [
        "553 known locations among 760\n"
       ]
      }
     ],
     "prompt_number": 300
    },
    {
     "cell_type": "code",
     "collapsed": false,
     "input": [],
     "language": "python",
     "metadata": {},
     "outputs": []
    }
   ],
   "metadata": {}
  }
 ]
}